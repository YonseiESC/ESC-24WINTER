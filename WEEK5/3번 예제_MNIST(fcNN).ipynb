{
  "cells": [
    {
      "cell_type": "code",
      "execution_count": null,
      "metadata": {
        "id": "Y6S_hQX5oaBw",
        "scrolled": true
      },
      "outputs": [],
      "source": [
        "# 마찬가지로 필요한 library 모두 다운받기\n",
        "import numpy as np\n",
        "import matplotlib.pyplot as plt\n",
        "%matplotlib inline\n",
        "plt.style.use('default')\n",
        "from sklearn.metrics import confusion_matrix\n",
        "import tensorflow as tf\n",
        "\n",
        "import tensorflow.keras as keras\n",
        "from tensorflow.keras.models import Sequential\n",
        "from tensorflow.keras.layers import Dense, Convolution2D, MaxPooling2D, Flatten , Activation\n",
        "from tensorflow.keras.utils import to_categorical\n",
        "from tensorflow.keras import optimizers"
      ]
    },
    {
      "cell_type": "code",
      "execution_count": null,
      "metadata": {
        "colab": {
          "base_uri": "https://localhost:8080/"
        },
        "id": "4sZ8lqFfoaB2",
        "outputId": "6676ead4-7105-48b3-b13a-7db6fad21255"
      },
      "outputs": [
        {
          "output_type": "stream",
          "name": "stdout",
          "text": [
            "Downloading data from https://storage.googleapis.com/tensorflow/tf-keras-datasets/mnist.npz\n",
            "11490434/11490434 [==============================] - 0s 0us/step\n"
          ]
        }
      ],
      "source": [
        "from tensorflow.keras.datasets import mnist #MNIST로부터 data 불러오기\n",
        "(x_train, y_train), (x_test, y_test) = mnist.load_data()\n",
        "\n",
        "# x_train에서 50000개까지를 training set,나머지 60000까지를 valid set으로 한다.\n",
        "X_train=x_train[0:50000] / 255 #모든 값을 255로 나누어 0과 1사이의 값으로 만들 것이다.\n",
        "Y_train=keras.utils.to_categorical(y_train[0:50000],10) # one-hot encoding\n",
        "\n",
        "X_val=x_train[50000:60000] / 255\n",
        "Y_val=keras.utils.to_categorical(y_train[50000:60000],10)\n",
        "\n",
        "X_test=x_test / 255\n",
        "Y_test=keras.utils.to_categorical(y_test,10)\n",
        "\n",
        "del x_train, y_train, x_test, y_test\n",
        "\n",
        "X_train=np.reshape(X_train, (X_train.shape[0],28,28,1))\n",
        "X_val=np.reshape(X_val, (X_val.shape[0],28,28,1))\n",
        "X_test=np.reshape(X_test, (X_test.shape[0],28,28,1))\n"
      ]
    },
    {
      "cell_type": "code",
      "execution_count": null,
      "metadata": {
        "colab": {
          "base_uri": "https://localhost:8080/",
          "height": 359
        },
        "id": "c4gUgwGUeftF",
        "outputId": "57229424-ccc7-4bef-e324-fc6ce3ee0d0b"
      },
      "outputs": [
        {
          "output_type": "stream",
          "name": "stderr",
          "text": [
            "<ipython-input-6-60d65843ad2f>:6: DeprecationWarning: `np.str` is a deprecated alias for the builtin `str`. To silence this warning, use `str` by itself. Doing this will not modify any behavior and is safe. If you specifically wanted the numpy scalar type, use `np.str_` here.\n",
            "Deprecated in NumPy 1.20; for more details and guidance: https://numpy.org/devdocs/release/1.20.0-notes.html#deprecations\n",
            "  plt.title('true label: '+np.str(np.argmax(Y_train,axis=1)[i]))\n"
          ]
        },
        {
          "output_type": "display_data",
          "data": {
            "text/plain": [
              "<Figure size 1200x1200 with 4 Axes>"
            ],
            "image/png": "[encoded data removed]"
          },
          "metadata": {}
        }
      ],
      "source": [
        "# 데이터가 잘 읽혔나 확인해보기\n",
        "plt.figure(figsize=(12,12))\n",
        "for i in range(0,4):\n",
        "    plt.subplot(1,4,(i+1))\n",
        "    plt.imshow((X_train[i,:,:,0]),cmap=\"gray\")\n",
        "    plt.title('true label: '+np.str(np.argmax(Y_train,axis=1)[i]))\n",
        "    #plt.axis('off')"
      ]
    },
    {
      "cell_type": "code",
      "execution_count": null,
      "metadata": {
        "id": "CoSUhNzRfbj4"
      },
      "outputs": [],
      "source": [
        "# fcNN을 사용하기 위해 데이터를 1차원 벡터 형태로 펼쳐야 함.\n",
        "\n",
        "X_train_flat = X_train.reshape([X_train.shape[0], 784])\n",
        "X_val_flat = X_val.reshape([X_val.shape[0], 784])\n",
        "X_test_flat = X_test.reshape([X_test.shape[0], 784])\n"
      ]
    },
    {
      "cell_type": "code",
      "execution_count": null,
      "metadata": {
        "id": "EAispBe0oaCH"
      },
      "outputs": [],
      "source": [
        "# 각각 100, 50개의 neuron으로 이루어진 hidden layer 2개를 가지는 fcNN을 만들 것.\n",
        "model = Sequential()\n",
        "\n",
        "model.add(Dense(100, batch_input_shape=(None, 784))) #100개의 neuron을 가지는 첫 번째 layer\n",
        "model.add(Activation('sigmoid'))\n",
        "model.add(Dense(50)) # 50개의 neuron을 가지는 두 번째 layer\n",
        "model.add(Activation('sigmoid'))\n",
        "model.add(Dense(10)) # output layer는 10 가지의 결과값을 가짐\n",
        "model.add(Activation('softmax')) #확률들의 합을 1로 맞추기 위해 softmax함수를 사용\n",
        "\n",
        "# compile model and intitialize weights\n",
        "model.compile(loss='categorical_crossentropy',\n",
        "              optimizer='adam',\n",
        "              metrics=['accuracy'])"
      ]
    },
    {
      "cell_type": "code",
      "execution_count": null,
      "metadata": {
        "colab": {
          "base_uri": "https://localhost:8080/"
        },
        "id": "mhvTpCtfoaCQ",
        "outputId": "f110862b-88ae-4b3a-8925-f4252e87f7d4"
      },
      "outputs": [
        {
          "output_type": "stream",
          "name": "stdout",
          "text": [
            "Epoch 1/10\n",
            "391/391 - 3s - loss: 1.0003 - accuracy: 0.7759 - val_loss: 0.3910 - val_accuracy: 0.9109 - 3s/epoch - 8ms/step\n",
            "Epoch 2/10\n",
            "391/391 - 1s - loss: 0.3311 - accuracy: 0.9130 - val_loss: 0.2523 - val_accuracy: 0.9309 - 1s/epoch - 4ms/step\n",
            "Epoch 3/10\n",
            "391/391 - 1s - loss: 0.2411 - accuracy: 0.9318 - val_loss: 0.2023 - val_accuracy: 0.9432 - 1s/epoch - 3ms/step\n",
            "Epoch 4/10\n",
            "391/391 - 1s - loss: 0.1961 - accuracy: 0.9440 - val_loss: 0.1741 - val_accuracy: 0.9515 - 1s/epoch - 3ms/step\n",
            "Epoch 5/10\n",
            "391/391 - 1s - loss: 0.1656 - accuracy: 0.9520 - val_loss: 0.1533 - val_accuracy: 0.9571 - 1s/epoch - 4ms/step\n",
            "Epoch 6/10\n",
            "391/391 - 1s - loss: 0.1422 - accuracy: 0.9584 - val_loss: 0.1414 - val_accuracy: 0.9598 - 1s/epoch - 3ms/step\n",
            "Epoch 7/10\n",
            "391/391 - 1s - loss: 0.1234 - accuracy: 0.9649 - val_loss: 0.1250 - val_accuracy: 0.9637 - 1s/epoch - 4ms/step\n",
            "Epoch 8/10\n",
            "391/391 - 2s - loss: 0.1087 - accuracy: 0.9689 - val_loss: 0.1153 - val_accuracy: 0.9658 - 2s/epoch - 6ms/step\n",
            "Epoch 9/10\n",
            "391/391 - 1s - loss: 0.0957 - accuracy: 0.9732 - val_loss: 0.1092 - val_accuracy: 0.9684 - 1s/epoch - 4ms/step\n",
            "Epoch 10/10\n",
            "391/391 - 1s - loss: 0.0849 - accuracy: 0.9757 - val_loss: 0.1023 - val_accuracy: 0.9698 - 1s/epoch - 3ms/step\n"
          ]
        }
      ],
      "source": [
        "# 마찬가지로 모델 트레이닝\n",
        "history=model.fit(X_train_flat, Y_train,\n",
        "                  batch_size=128,\n",
        "                  epochs=10,\n",
        "                  verbose=2,\n",
        "                  validation_data=(X_val_flat, Y_val)\n",
        "                 )"
      ]
    },
    {
      "cell_type": "markdown",
      "metadata": {
        "id": "HvOuOKc01bqS"
      },
      "source": [
        "In the next cell we plot the accuray and loss of the train and validation vs the number of train eprochs to see how the development"
      ]
    },
    {
      "cell_type": "code",
      "execution_count": null,
      "metadata": {
        "colab": {
          "base_uri": "https://localhost:8080/",
          "height": 427
        },
        "id": "t39HSiHcoaCT",
        "outputId": "90e35d4f-e8db-40c7-fd78-80149d2864b9"
      },
      "outputs": [
        {
          "data": {
            "text/plain": [
              "<matplotlib.legend.Legend at 0x7f6edc3a3908>"
            ]
          },
          "execution_count": 10,
          "metadata": {},
          "output_type": "execute_result"
        },
        {
          "data": {
            "image/png": "[encoded data removed]",
            "text/plain": [
              "<Figure size 864x288 with 2 Axes>"
            ]
          },
          "metadata": {
            "needs_background": "light"
          },
          "output_type": "display_data"
        }
      ],
      "source": [
        "# training 과정이 진행됨에 따라 accuracy와 loss의 변화를 시각적으로 확인해보자.\n",
        "plt.figure(figsize=(12,4))\n",
        "plt.subplot(1,2,(1))\n",
        "plt.plot(history.history['accuracy'],linestyle='-.')\n",
        "plt.plot(history.history['val_accuracy'])\n",
        "plt.title('model accuracy')\n",
        "plt.ylabel('accuracy')\n",
        "plt.xlabel('epoch')\n",
        "plt.legend(['train', 'valid'], loc='lower right')\n",
        "plt.subplot(1,2,(2))\n",
        "plt.plot(history.history['loss'],linestyle='-.')\n",
        "plt.plot(history.history['val_loss'])\n",
        "plt.title('model loss')\n",
        "plt.ylabel('loss')\n",
        "plt.xlabel('epoch')\n",
        "plt.legend(['train', 'valid'], loc='upper right')"
      ]
    },
    {
      "cell_type": "code",
      "execution_count": null,
      "metadata": {
        "colab": {
          "base_uri": "https://localhost:8080/"
        },
        "id": "z1U4S7o5oaCY",
        "outputId": "4e3752db-6843-44c0-a6bb-fa5c63bf1e57"
      },
      "outputs": [
        {
          "output_type": "stream",
          "name": "stdout",
          "text": [
            "313/313 [==============================] - 0s 1ms/step\n",
            "예측 정확도 =  0.9678\n"
          ]
        }
      ],
      "source": [
        "pred=model.predict(X_test_flat) #이제, test data를 이용해 모델의 정확도를 확인해보자.\n",
        "accuracy = np.sum(np.argmax(Y_test,axis=1)==np.argmax(pred,axis=1))/len(pred)\n",
        "print(\"예측 정확도 = \" , accuracy)"
      ]
    }
  ],
  "metadata": {
    "accelerator": "GPU",
    "colab": {
      "provenance": []
    },
    "kernelspec": {
      "display_name": "Python 3",
      "language": "python",
      "name": "python3"
    },
    "language_info": {
      "codemirror_mode": {
        "name": "ipython",
        "version": 3
      },
      "file_extension": ".py",
      "mimetype": "text/x-python",
      "name": "python",
      "nbconvert_exporter": "python",
      "pygments_lexer": "ipython3",
      "version": "3.6.8"
    }
  },
  "nbformat": 4,
  "nbformat_minor": 0
}